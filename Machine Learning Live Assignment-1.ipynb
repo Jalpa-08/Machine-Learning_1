{
 "cells": [
  {
   "cell_type": "code",
   "execution_count": null,
   "id": "2526ab12",
   "metadata": {},
   "outputs": [],
   "source": [
    "What type of Machine Learning Algorithms would be used to allow your bipedal bot to walk in various terrains?\n",
    "The best Machine Learning algorithm to allow a bipedal bot to walk in unknown terrain is Reinforced Learning,\n",
    "where the robot can learn from response of the terrain to optimize itself."
   ]
  },
  {
   "cell_type": "code",
   "execution_count": null,
   "id": "9e088815",
   "metadata": {},
   "outputs": [],
   "source": [
    "What is the difference between online learning and out-of-the-core learning?\n",
    "Online learning system is a learning system in which the machine learns as data is given in small streams continuously.\n",
    "Out-of-core learning system is a system that can handle data that cannot fit into your computer memory. \n",
    "It uses online learning system to feed data in small bits.\n"
   ]
  },
  {
   "cell_type": "code",
   "execution_count": null,
   "id": "3257abfa",
   "metadata": {},
   "outputs": [],
   "source": [
    "What is the importance of a train-dev set in machine learning?\n",
    "The Development set is used to select the parameters, tune them and then use them to choose the best model of \n",
    "a training algorithm. Nevertheless, it also helps in avoiding or minimizing overfitting and simultaneously controls\n",
    "the learning rate."
   ]
  },
  {
   "cell_type": "code",
   "execution_count": null,
   "id": "100b96f0",
   "metadata": {},
   "outputs": [],
   "source": [
    "If suppose your model is poorly generalizing the unseen data, what possibilities are there, and how you will \n",
    "solve those situations?\n",
    "We then went through the main approaches for improving generalization: limiting the number of weights, \n",
    "weight sharing, stopping training early, regularization, weight decay, and adding noise to the inputs.\n"
   ]
  },
  {
   "cell_type": "code",
   "execution_count": null,
   "id": "b876b1c8",
   "metadata": {},
   "outputs": [],
   "source": [
    "What is data leakage and what can go wrong if you tune your hyperparameters on the test set?\n",
    "If you use this data to choose hyperparameters, you actually give the model a chance to \"see\" the test data and to develop \n",
    "a bias towards this test data. Therefore, you actually lose the possibility to find out how good your model would \n",
    "actually be on unseen data (because it has already seen the test data)"
   ]
  }
 ],
 "metadata": {
  "kernelspec": {
   "display_name": "Python 3 (ipykernel)",
   "language": "python",
   "name": "python3"
  },
  "language_info": {
   "codemirror_mode": {
    "name": "ipython",
    "version": 3
   },
   "file_extension": ".py",
   "mimetype": "text/x-python",
   "name": "python",
   "nbconvert_exporter": "python",
   "pygments_lexer": "ipython3",
   "version": "3.9.7"
  }
 },
 "nbformat": 4,
 "nbformat_minor": 5
}
